{
  "cells": [
    {
      "cell_type": "markdown",
      "metadata": {},
      "source": [
        "# German EV Charging Infrastructure Analysis\n",
        "\n",
        "Simple e2e data pipeline using DuckDB.\n",
        "\n",
        "**Pipeline**: Ingestion → Transformation → Visualization → Export\n",
        "\n",
        "**Data Sources**: \n",
        "- EV stations: OpenChargeMap API\n",
        "- Population: German postal codes CSV\n",
        "- States: German PLZ-to-Bundesland mapping\n"
      ]
    },
    {
      "cell_type": "code",
      "execution_count": 1,
      "metadata": {},
      "outputs": [
        {
          "name": "stdout",
          "output_type": "stream",
          "text": [
            "Requirement already satisfied: duckdb==1.3.2 in /home/katwre/miniconda3/envs/fl-course-env/lib/python3.11/site-packages (1.3.2)\n",
            "Requirement already satisfied: lonboard in /home/katwre/miniconda3/envs/fl-course-env/lib/python3.11/site-packages (0.11.1)\n",
            "Requirement already satisfied: anywidget~=0.9.0 in /home/katwre/miniconda3/envs/fl-course-env/lib/python3.11/site-packages (from lonboard) (0.9.18)\n",
            "Requirement already satisfied: arro3-compute>=0.4.1 in /home/katwre/miniconda3/envs/fl-course-env/lib/python3.11/site-packages (from lonboard) (0.6.1)\n",
            "Requirement already satisfied: arro3-core>=0.4.1 in /home/katwre/miniconda3/envs/fl-course-env/lib/python3.11/site-packages (from lonboard) (0.6.1)\n",
            "Requirement already satisfied: arro3-io>=0.4.1 in /home/katwre/miniconda3/envs/fl-course-env/lib/python3.11/site-packages (from lonboard) (0.6.1)\n",
            "Requirement already satisfied: ipywidgets>=7.6.0 in /home/katwre/miniconda3/envs/fl-course-env/lib/python3.11/site-packages (from lonboard) (8.1.7)\n",
            "Requirement already satisfied: numpy>=1.14 in /home/katwre/miniconda3/envs/fl-course-env/lib/python3.11/site-packages (from lonboard) (2.1.2)\n",
            "Requirement already satisfied: pyproj>=3.3 in /home/katwre/miniconda3/envs/fl-course-env/lib/python3.11/site-packages (from lonboard) (3.7.2)\n",
            "Requirement already satisfied: traitlets>=5.7.1 in /home/katwre/miniconda3/envs/fl-course-env/lib/python3.11/site-packages (from lonboard) (5.14.3)\n",
            "Requirement already satisfied: typing-extensions>=4.6.0 in /home/katwre/miniconda3/envs/fl-course-env/lib/python3.11/site-packages (from lonboard) (4.15.0)\n",
            "Requirement already satisfied: psygnal>=0.8.1 in /home/katwre/miniconda3/envs/fl-course-env/lib/python3.11/site-packages (from anywidget~=0.9.0->lonboard) (0.14.1)\n",
            "Requirement already satisfied: comm>=0.1.3 in /home/katwre/miniconda3/envs/fl-course-env/lib/python3.11/site-packages (from ipywidgets>=7.6.0->lonboard) (0.2.3)\n",
            "Requirement already satisfied: ipython>=6.1.0 in /home/katwre/miniconda3/envs/fl-course-env/lib/python3.11/site-packages (from ipywidgets>=7.6.0->lonboard) (9.4.0)\n",
            "Requirement already satisfied: widgetsnbextension~=4.0.14 in /home/katwre/miniconda3/envs/fl-course-env/lib/python3.11/site-packages (from ipywidgets>=7.6.0->lonboard) (4.0.14)\n",
            "Requirement already satisfied: jupyterlab_widgets~=3.0.15 in /home/katwre/miniconda3/envs/fl-course-env/lib/python3.11/site-packages (from ipywidgets>=7.6.0->lonboard) (3.0.15)\n",
            "Requirement already satisfied: decorator in /home/katwre/miniconda3/envs/fl-course-env/lib/python3.11/site-packages (from ipython>=6.1.0->ipywidgets>=7.6.0->lonboard) (5.2.1)\n",
            "Requirement already satisfied: ipython-pygments-lexers in /home/katwre/miniconda3/envs/fl-course-env/lib/python3.11/site-packages (from ipython>=6.1.0->ipywidgets>=7.6.0->lonboard) (1.1.1)\n",
            "Requirement already satisfied: jedi>=0.16 in /home/katwre/miniconda3/envs/fl-course-env/lib/python3.11/site-packages (from ipython>=6.1.0->ipywidgets>=7.6.0->lonboard) (0.19.2)\n",
            "Requirement already satisfied: matplotlib-inline in /home/katwre/miniconda3/envs/fl-course-env/lib/python3.11/site-packages (from ipython>=6.1.0->ipywidgets>=7.6.0->lonboard) (0.1.7)\n",
            "Requirement already satisfied: pexpect>4.3 in /home/katwre/miniconda3/envs/fl-course-env/lib/python3.11/site-packages (from ipython>=6.1.0->ipywidgets>=7.6.0->lonboard) (4.9.0)\n",
            "Requirement already satisfied: prompt_toolkit<3.1.0,>=3.0.41 in /home/katwre/miniconda3/envs/fl-course-env/lib/python3.11/site-packages (from ipython>=6.1.0->ipywidgets>=7.6.0->lonboard) (3.0.52)\n",
            "Requirement already satisfied: pygments>=2.4.0 in /home/katwre/miniconda3/envs/fl-course-env/lib/python3.11/site-packages (from ipython>=6.1.0->ipywidgets>=7.6.0->lonboard) (2.19.2)\n",
            "Requirement already satisfied: stack_data in /home/katwre/miniconda3/envs/fl-course-env/lib/python3.11/site-packages (from ipython>=6.1.0->ipywidgets>=7.6.0->lonboard) (0.6.3)\n",
            "Requirement already satisfied: wcwidth in /home/katwre/miniconda3/envs/fl-course-env/lib/python3.11/site-packages (from prompt_toolkit<3.1.0,>=3.0.41->ipython>=6.1.0->ipywidgets>=7.6.0->lonboard) (0.2.13)\n",
            "Requirement already satisfied: parso<0.9.0,>=0.8.4 in /home/katwre/miniconda3/envs/fl-course-env/lib/python3.11/site-packages (from jedi>=0.16->ipython>=6.1.0->ipywidgets>=7.6.0->lonboard) (0.8.5)\n",
            "Requirement already satisfied: ptyprocess>=0.5 in /home/katwre/miniconda3/envs/fl-course-env/lib/python3.11/site-packages (from pexpect>4.3->ipython>=6.1.0->ipywidgets>=7.6.0->lonboard) (0.7.0)\n",
            "Requirement already satisfied: certifi in /home/katwre/miniconda3/envs/fl-course-env/lib/python3.11/site-packages (from pyproj>=3.3->lonboard) (2025.8.3)\n",
            "Requirement already satisfied: executing>=1.2.0 in /home/katwre/miniconda3/envs/fl-course-env/lib/python3.11/site-packages (from stack_data->ipython>=6.1.0->ipywidgets>=7.6.0->lonboard) (2.2.0)\n",
            "Requirement already satisfied: asttokens>=2.1.0 in /home/katwre/miniconda3/envs/fl-course-env/lib/python3.11/site-packages (from stack_data->ipython>=6.1.0->ipywidgets>=7.6.0->lonboard) (3.0.0)\n",
            "Requirement already satisfied: pure_eval in /home/katwre/miniconda3/envs/fl-course-env/lib/python3.11/site-packages (from stack_data->ipython>=6.1.0->ipywidgets>=7.6.0->lonboard) (0.2.3)\n",
            "Note: you may need to restart the kernel to use updated packages.\n",
            "✅ Setup complete\n"
          ]
        }
      ],
      "source": [
        "# Setup\n",
        "%pip install duckdb==1.3.2 lonboard\n",
        "\n",
        "import duckdb\n",
        "import os\n",
        "from lonboard import Map, ScatterplotLayer, viz\n",
        "\n",
        "# Connect to DuckDB\n",
        "con = duckdb.connect()\n",
        "con.sql(\"INSTALL spatial; LOAD spatial;\")\n",
        "con.sql(\"INSTALL httpfs; LOAD httpfs;\")\n",
        "print(\"✅ Setup complete\")\n"
      ]
    },
    {
      "cell_type": "markdown",
      "metadata": {},
      "source": [
        "## 🔄 1. INGESTION\n"
      ]
    },
    {
      "cell_type": "code",
      "execution_count": 2,
      "metadata": {},
      "outputs": [
        {
          "name": "stdout",
          "output_type": "stream",
          "text": [
            "https://api-01.openchargemap.io/v3/poi?client=ocm-data-export&maxresults=100000&compact=true&verbose=false&boundingbox=(55.099,5.866),(47.270,15.041)\n"
          ]
        }
      ],
      "source": [
        "# EV Charging Stations (Germany)\n",
        "poi_url = (\n",
        "    \"https://api-01.openchargemap.io/v3/poi\"\n",
        "    \"?client=ocm-data-export&maxresults=100000&compact=true&verbose=false\"\n",
        "    \"&boundingbox=(55.099,5.866),(47.270,15.041)\"\n",
        ")\n",
        "print(poi_url)\n",
        "con.sql(f\"CREATE OR REPLACE TABLE raw_poi_de AS SELECT * FROM read_json_auto('{poi_url}');\")\n"
      ]
    },
    {
      "cell_type": "code",
      "execution_count": 3,
      "metadata": {},
      "outputs": [
        {
          "name": "stdout",
          "output_type": "stream",
          "text": [
            "📊 Ingested: 27,504 EV stations\n",
            "📊 Ingested: 8,170 postal codes\n",
            "📊 Total German population: 80,322,172\n"
          ]
        }
      ],
      "source": [
        "\n",
        "# German Population by Postal Code\n",
        "plz_csv_url = \"https://downloads.suche-postleitzahl.org/v2/public/plz_einwohner.csv\"\n",
        "con.sql(f\"\"\"\n",
        "CREATE OR REPLACE TABLE raw_plz_population AS\n",
        "SELECT\n",
        "  CAST(plz AS VARCHAR) AS plz,\n",
        "  CAST(einwohner AS BIGINT) AS population,\n",
        "  CAST(lat AS DOUBLE) AS latitude,\n",
        "  CAST(lon AS DOUBLE) AS longitude,\n",
        "  note AS location_name\n",
        "FROM read_csv_auto('{plz_csv_url}');\n",
        "\"\"\")\n",
        "\n",
        "# German States Mapping\n",
        "states_csv_url = \"https://gist.githubusercontent.com/jbspeakr/4565964/raw/4083f8b8933f0e9a64dafc943ecbae496f9d65d2/German-Zip-Codes.csv\"\n",
        "con.sql(f\"\"\"\n",
        "CREATE OR REPLACE TABLE raw_plz_states AS\n",
        "SELECT\n",
        "  TRIM(CAST(Plz AS VARCHAR)) AS plz,\n",
        "  TRIM(CAST(Bundesland AS VARCHAR)) AS bundesland\n",
        "FROM read_csv_auto('{states_csv_url}', delim=';', header=true)\n",
        "WHERE Plz IS NOT NULL AND Bundesland IS NOT NULL;\n",
        "\"\"\")\n",
        "\n",
        "print(f\"📊 Ingested: {con.sql('SELECT COUNT(*) FROM raw_poi_de').fetchone()[0]:,} EV stations\")\n",
        "print(f\"📊 Ingested: {con.sql('SELECT COUNT(*) FROM raw_plz_population').fetchone()[0]:,} postal codes\")\n",
        "print(f\"📊 Total German population: {con.sql('SELECT SUM(population) FROM raw_plz_population').fetchone()[0]:,}\")\n"
      ]
    },
    {
      "cell_type": "markdown",
      "metadata": {},
      "source": [
        "## ⚙️ 2. TRANSFORMATION\n"
      ]
    },
    {
      "cell_type": "code",
      "execution_count": 4,
      "metadata": {},
      "outputs": [
        {
          "name": "stdout",
          "output_type": "stream",
          "text": [
            "🔌 Cleaned: 56,197 EV stations\n",
            "🔌 Total connectors: 153,548\n"
          ]
        }
      ],
      "source": [
        "# Clean and normalize EV stations\n",
        "con.sql(\"\"\"\n",
        "CREATE OR REPLACE TABLE clean_ev_stations AS\n",
        "WITH flattened AS (\n",
        "  SELECT\n",
        "    ID AS site_id,\n",
        "    AddressInfo.Title AS title,\n",
        "    SUBSTR(REGEXP_REPLACE(AddressInfo.Postcode, '[^0-9]', ''), 1, 5) AS plz,\n",
        "    COALESCE(AddressInfo.Town, AddressInfo.StateOrProvince) AS city,\n",
        "    CAST(AddressInfo.Latitude AS DOUBLE) AS latitude,\n",
        "    CAST(AddressInfo.Longitude AS DOUBLE) AS longitude,\n",
        "    unnest(Connections) AS connection\n",
        "  FROM raw_poi_de\n",
        "  WHERE AddressInfo.Latitude IS NOT NULL\n",
        "    AND AddressInfo.Longitude IS NOT NULL\n",
        "    AND AddressInfo.Postcode IS NOT NULL\n",
        ")\n",
        "SELECT\n",
        "  site_id, title, plz, city, latitude, longitude,\n",
        "  SUM(COALESCE(connection.Quantity, 1)) AS connector_count,\n",
        "  ST_Point(longitude, latitude) AS geometry\n",
        "FROM flattened\n",
        "GROUP BY site_id, title, plz, city, latitude, longitude;\n",
        "\"\"\")\n",
        "\n",
        "# Enrich with population and state data\n",
        "con.sql(\"\"\"\n",
        "CREATE OR REPLACE TABLE enriched_ev_stations AS\n",
        "SELECT\n",
        "  e.*, p.population, p.location_name, s.bundesland\n",
        "FROM clean_ev_stations e\n",
        "LEFT JOIN raw_plz_population p ON e.plz = p.plz\n",
        "LEFT JOIN raw_plz_states s ON e.plz = s.plz;\n",
        "\"\"\")\n",
        "\n",
        "print(f\"🔌 Cleaned: {con.sql('SELECT COUNT(*) FROM enriched_ev_stations').fetchone()[0]:,} EV stations\")\n",
        "print(f\"🔌 Total connectors: {con.sql('SELECT SUM(connector_count) FROM enriched_ev_stations').fetchone()[0]:,}\")\n"
      ]
    },
    {
      "cell_type": "code",
      "execution_count": 5,
      "metadata": {},
      "outputs": [
        {
          "name": "stdout",
          "output_type": "stream",
          "text": [
            "📊 KPIs calculated for postal codes and states\n"
          ]
        }
      ],
      "source": [
        "# Calculate KPIs\n",
        "con.sql(\"\"\"\n",
        "CREATE OR REPLACE TABLE kpi_by_plz AS\n",
        "SELECT\n",
        "  e.plz,\n",
        "  MAX(e.location_name) AS location_name,\n",
        "  COUNT(e.site_id) AS ev_stations,\n",
        "  SUM(e.connector_count) AS total_connectors,\n",
        "  MAX(e.population) AS population,\n",
        "  MAX(e.bundesland) AS bundesland,\n",
        "  ROUND(100000.0 * SUM(e.connector_count) / NULLIF(MAX(e.population), 0), 2) AS connectors_per_100k\n",
        "FROM enriched_ev_stations e\n",
        "WHERE e.population IS NOT NULL\n",
        "GROUP BY e.plz\n",
        "HAVING SUM(e.connector_count) > 0\n",
        "ORDER BY connectors_per_100k DESC;\n",
        "\"\"\")\n",
        "\n",
        "con.sql(\"\"\"\n",
        "CREATE OR REPLACE TABLE kpi_by_state AS\n",
        "SELECT\n",
        "  e.bundesland,\n",
        "  COUNT(e.site_id) AS ev_stations,\n",
        "  SUM(e.connector_count) AS total_connectors,\n",
        "  SUM(e.population) AS total_population,\n",
        "  ROUND(100000.0 * SUM(e.connector_count) / NULLIF(SUM(e.population), 0), 2) AS connectors_per_100k\n",
        "FROM enriched_ev_stations e\n",
        "WHERE e.population IS NOT NULL AND e.bundesland IS NOT NULL\n",
        "GROUP BY e.bundesland\n",
        "ORDER BY connectors_per_100k DESC;\n",
        "\"\"\")\n",
        "\n",
        "print(\"📊 KPIs calculated for postal codes and states\")\n"
      ]
    },
    {
      "cell_type": "markdown",
      "metadata": {},
      "source": [
        "## 📊 3. VISUALIZATION\n"
      ]
    },
    {
      "cell_type": "code",
      "execution_count": 6,
      "metadata": {},
      "outputs": [
        {
          "name": "stdout",
          "output_type": "stream",
          "text": [
            "Collecting shapely\n",
            "  Downloading shapely-2.1.1-cp311-cp311-manylinux_2_17_x86_64.manylinux2014_x86_64.whl.metadata (6.7 kB)\n",
            "Requirement already satisfied: numpy>=1.21 in /home/katwre/miniconda3/envs/fl-course-env/lib/python3.11/site-packages (from shapely) (2.1.2)\n",
            "Downloading shapely-2.1.1-cp311-cp311-manylinux_2_17_x86_64.manylinux2014_x86_64.whl (3.1 MB)\n",
            "\u001b[2K   \u001b[38;2;114;156;31m━━━━━━━━━━━━━━━━━━━━━━━━━━━━━━━━━━━━━━━━\u001b[0m \u001b[32m3.1/3.1 MB\u001b[0m \u001b[31m3.5 MB/s\u001b[0m  \u001b[33m0:00:00\u001b[0m3.6 MB/s\u001b[0m eta \u001b[36m0:00:01\u001b[0m:01\u001b[0m\n",
            "\u001b[?25hInstalling collected packages: shapely\n",
            "Successfully installed shapely-2.1.1\n"
          ]
        }
      ],
      "source": [
        "!pip install shapely"
      ]
    },
    {
      "cell_type": "code",
      "execution_count": 7,
      "metadata": {},
      "outputs": [
        {
          "name": "stderr",
          "output_type": "stream",
          "text": [
            "/home/katwre/miniconda3/envs/fl-course-env/lib/python3.11/site-packages/lonboard/_geoarrow/ops/reproject.py:37: UserWarning: No CRS exists on data. If no data is shown on the map, double check that your CRS is WGS84.\n",
            "  warn(\n"
          ]
        },
        {
          "data": {
            "application/vnd.jupyter.widget-view+json": {
              "model_id": "1ad134eb832a43f78a52885f4539d285",
              "version_major": 2,
              "version_minor": 1
            },
            "text/plain": [
              "Map(basemap_style=<CartoBasemap.DarkMatter: 'https://basemaps.cartocdn.com/gl/dark-matter-gl-style/style.json'…"
            ]
          },
          "metadata": {},
          "output_type": "display_data"
        },
        {
          "name": "stdout",
          "output_type": "stream",
          "text": [
            "🗺️ Basic EV stations map created\n"
          ]
        }
      ],
      "source": [
        "# Basic EV stations map\n",
        "basic_query = con.sql(\"\"\"\n",
        "SELECT \n",
        "  site_id, title, connector_count, geometry\n",
        "FROM enriched_ev_stations\n",
        "WHERE latitude BETWEEN 47.0 AND 55.2\n",
        "  AND longitude BETWEEN 5.5 AND 15.5\n",
        "ORDER BY connector_count DESC\n",
        "LIMIT 5000\n",
        "\"\"\")\n",
        "\n",
        "basic_map = viz(basic_query)\n",
        "display(basic_map)\n",
        "print(\"🗺️ Basic EV stations map created\")\n"
      ]
    },
    {
      "cell_type": "markdown",
      "metadata": {},
      "source": [
        "## 💾 4. EXPORT\n"
      ]
    },
    {
      "cell_type": "code",
      "execution_count": 8,
      "metadata": {},
      "outputs": [
        {
          "name": "stdout",
          "output_type": "stream",
          "text": [
            "✅ Exported enriched_ev_stations.parquet (56,197 rows)\n",
            "✅ Exported kpi_by_plz.parquet (5,661 rows)\n",
            "✅ Exported kpi_by_state.parquet (16 rows)\n",
            "✅ Exported raw_plz_population.parquet (8,170 rows)\n",
            "\n",
            "💾 All data exported to:\n",
            "  📁 ev_germany_analysis.db (DuckDB database)\n",
            "  📄 *.parquet files (individual tables)\n"
          ]
        }
      ],
      "source": [
        "# Create separate database and export as Parquet\n",
        "con.sql(\"ATTACH 'ev_germany_analysis.db' AS ev_db;\")\n",
        "\n",
        "# Copy tables to new database\n",
        "tables_to_export = [\n",
        "    'enriched_ev_stations',\n",
        "    'kpi_by_plz', \n",
        "    'kpi_by_state',\n",
        "    'raw_plz_population'\n",
        "]\n",
        "\n",
        "for table in tables_to_export:\n",
        "    con.sql(f\"CREATE OR REPLACE TABLE ev_db.{table} AS SELECT * FROM {table};\")\n",
        "    # Export to Parquet\n",
        "    con.sql(f\"COPY ev_db.{table} TO '{table}.parquet' (FORMAT PARQUET);\")\n",
        "    row_count = con.sql(f\"SELECT COUNT(*) FROM {table}\").fetchone()[0]\n",
        "    print(f\"✅ Exported {table}.parquet ({row_count:,} rows)\")\n",
        "\n",
        "print(\"\\n💾 All data exported to:\")\n",
        "print(\"  📁 ev_germany_analysis.db (DuckDB database)\")\n",
        "print(\"  📄 *.parquet files (individual tables)\")\n"
      ]
    },
    {
      "cell_type": "markdown",
      "metadata": {},
      "source": [
        "## 📈 5. SUMMARY\n"
      ]
    },
    {
      "cell_type": "code",
      "execution_count": 9,
      "metadata": {},
      "outputs": [
        {
          "name": "stdout",
          "output_type": "stream",
          "text": [
            "📊 FINAL SUMMARY\n",
            "========================================\n",
            "🚗 Total EV Stations: 53,288\n",
            "🔌 Total Connectors: 146,583\n",
            "📮 Postal Codes Covered: 5,661\n",
            "👥 Population Covered: 890,898,192\n",
            "⚡ Avg Connectors/Station: 2.8\n",
            "\n",
            "🏆 TOP 5 AREAS (connectors per 100k residents):\n",
            "  1. PLZ 60549 - 625000.0 connectors/100k\n",
            "  2. PLZ 70629 - 362500.0 connectors/100k\n",
            "  3. PLZ 64743 - 266666.67 connectors/100k\n",
            "  4. PLZ 30521 - 43750.0 connectors/100k\n",
            "  5. PLZ 83364 - 30769.23 connectors/100k\n",
            "\n",
            "🏛️ TOP 5 STATES:\n",
            "  1. Mecklenburg-Vorpommern - 22.76 connectors/100k\n",
            "  2. Rheinland-Pfalz - 22.58 connectors/100k\n",
            "  3. Bayern - 21.86 connectors/100k\n",
            "  4. Hamburg - 21.3 connectors/100k\n",
            "  5. Schlewig-Holstein - 17.92 connectors/100k\n",
            "\n",
            "✅ Pipeline complete! Data ready for analysis.\n"
          ]
        }
      ],
      "source": [
        "# Fixed population statistics\n",
        "overall_stats = con.sql(\"\"\"\n",
        "SELECT \n",
        "  COUNT(*) as total_stations,\n",
        "  SUM(connector_count) as total_connectors,\n",
        "  COUNT(DISTINCT e.plz) as unique_postal_codes,\n",
        "  SUM(DISTINCT_population.pop) as actual_population_covered,\n",
        "  ROUND(AVG(connector_count), 1) as avg_connectors_per_station\n",
        "FROM enriched_ev_stations e\n",
        "JOIN (\n",
        "  SELECT plz, MAX(population) as pop \n",
        "  FROM enriched_ev_stations \n",
        "  WHERE population IS NOT NULL \n",
        "  GROUP BY plz\n",
        ") DISTINCT_population ON e.plz = DISTINCT_population.plz\n",
        "WHERE e.population IS NOT NULL\n",
        "\"\"\").fetchone()\n",
        "\n",
        "print(\"📊 FINAL SUMMARY\")\n",
        "print(\"=\" * 40)\n",
        "print(f\"🚗 Total EV Stations: {overall_stats[0]:,}\")\n",
        "print(f\"🔌 Total Connectors: {overall_stats[1]:,}\")\n",
        "print(f\"📮 Postal Codes Covered: {overall_stats[2]:,}\")\n",
        "print(f\"👥 Population Covered: {overall_stats[3]:,}\")\n",
        "print(f\"⚡ Avg Connectors/Station: {overall_stats[4]}\")\n",
        "\n",
        "# Top areas\n",
        "print(\"\\n🏆 TOP 5 AREAS (connectors per 100k residents):\")\n",
        "top_areas = con.sql(\"SELECT plz, location_name, connectors_per_100k FROM kpi_by_plz LIMIT 5\").fetchall()\n",
        "for i, area in enumerate(top_areas, 1):\n",
        "    print(f\"  {i}. PLZ {area[0]} - {area[2]} connectors/100k\")\n",
        "\n",
        "print(\"\\n🏛️ TOP 5 STATES:\")\n",
        "top_states = con.sql(\"SELECT bundesland, connectors_per_100k FROM kpi_by_state LIMIT 5\").fetchall()\n",
        "for i, state in enumerate(top_states, 1):\n",
        "    print(f\"  {i}. {state[0]} - {state[1]} connectors/100k\")\n",
        "\n",
        "print(\"\\n✅ Pipeline complete! Data ready for analysis.\")\n"
      ]
    }
  ],
  "metadata": {
    "kernelspec": {
      "display_name": "fl-course-env",
      "language": "python",
      "name": "python3"
    },
    "language_info": {
      "codemirror_mode": {
        "name": "ipython",
        "version": 3
      },
      "file_extension": ".py",
      "mimetype": "text/x-python",
      "name": "python",
      "nbconvert_exporter": "python",
      "pygments_lexer": "ipython3",
      "version": "3.11.13"
    }
  },
  "nbformat": 4,
  "nbformat_minor": 2
}
